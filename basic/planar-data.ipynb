{
 "cells": [
  {
   "cell_type": "code",
   "execution_count": 14,
   "metadata": {},
   "outputs": [
    {
     "name": "stdout",
     "output_type": "stream",
     "text": [
      "0\n",
      "1\n"
     ]
    }
   ],
   "source": [
    "# Notebook to explore classification of planar data\n",
    "import numpy as np\n",
    "import matplotlib.pyplot as plt\n",
    "import math\n",
    "\n",
    "np.random.seed(1)\n",
    "\n",
    "for i in range(2):\n",
    "    print(i)\n",
    "\n",
    "def load_planar_dataset():\n",
    "    R = 100\n",
    "    for theta in np.linspace(0, 2 * 3.14, 50):\n",
    "        print(theta)\n",
    "        \n"
   ]
  },
  {
   "cell_type": "code",
   "execution_count": 15,
   "metadata": {},
   "outputs": [
    {
     "name": "stdout",
     "output_type": "stream",
     "text": [
      "(5,)\n"
     ]
    }
   ],
   "source": [
    "x=np.arange(0,5,1)\n",
    "print(x.shape)"
   ]
  },
  {
   "cell_type": "code",
   "execution_count": 19,
   "metadata": {},
   "outputs": [],
   "source": [
    "\n",
    "np.c_[np.array([1,2,3]), np.array([4,5,6])]\n",
    "xs = lambda x: math.sin(3.14/2)"
   ]
  },
  {
   "cell_type": "code",
   "execution_count": 20,
   "metadata": {},
   "outputs": [
    {
     "name": "stdout",
     "output_type": "stream",
     "text": [
      "0.9999996829318346\n"
     ]
    }
   ],
   "source": [
    "print(xs(10))"
   ]
  },
  {
   "cell_type": "code",
   "execution_count": 25,
   "metadata": {},
   "outputs": [
    {
     "name": "stdout",
     "output_type": "stream",
     "text": [
      "[0.         0.01586663 0.03173326 0.04759989 0.06346652 0.07933315\n",
      " 0.09519978 0.11106641 0.12693304 0.14279967 0.1586663  0.17453293\n",
      " 0.19039955 0.20626618 0.22213281 0.23799944 0.25386607 0.2697327\n",
      " 0.28559933 0.30146596 0.31733259 0.33319922 0.34906585 0.36493248\n",
      " 0.38079911 0.39666574 0.41253237 0.428399   0.44426563 0.46013226\n",
      " 0.47599889 0.49186552 0.50773215 0.52359878 0.53946541 0.55533203\n",
      " 0.57119866 0.58706529 0.60293192 0.61879855 0.63466518 0.65053181\n",
      " 0.66639844 0.68226507 0.6981317  0.71399833 0.72986496 0.74573159\n",
      " 0.76159822 0.77746485 0.79333148 0.80919811 0.82506474 0.84093137\n",
      " 0.856798   0.87266463 0.88853126 0.90439789 0.92026451 0.93613114\n",
      " 0.95199777 0.9678644  0.98373103 0.99959766 1.01546429 1.03133092\n",
      " 1.04719755 1.06306418 1.07893081 1.09479744 1.11066407 1.1265307\n",
      " 1.14239733 1.15826396 1.17413059 1.18999722 1.20586385 1.22173048\n",
      " 1.23759711 1.25346374 1.26933037 1.28519699 1.30106362 1.31693025\n",
      " 1.33279688 1.34866351 1.36453014 1.38039677 1.3962634  1.41213003\n",
      " 1.42799666 1.44386329 1.45972992 1.47559655 1.49146318 1.50732981\n",
      " 1.52319644 1.53906307 1.5549297  1.57079633]\n"
     ]
    }
   ],
   "source": [
    "x1 = np.linspace(0.0, math.pi/2.0, 100)\n",
    "print(x1)"
   ]
  },
  {
   "cell_type": "code",
   "execution_count": 22,
   "metadata": {},
   "outputs": [
    {
     "data": {
      "text/plain": [
       "array([], dtype=float64)"
      ]
     },
     "execution_count": 22,
     "metadata": {},
     "output_type": "execute_result"
    }
   ],
   "source": [
    "x1"
   ]
  },
  {
   "cell_type": "code",
   "execution_count": null,
   "metadata": {},
   "outputs": [],
   "source": []
  }
 ],
 "metadata": {
  "celltoolbar": "Edit Metadata",
  "kernelspec": {
   "display_name": "Python 3",
   "language": "python",
   "name": "python3"
  },
  "language_info": {
   "codemirror_mode": {
    "name": "ipython",
    "version": 3
   },
   "file_extension": ".py",
   "mimetype": "text/x-python",
   "name": "python",
   "nbconvert_exporter": "python",
   "pygments_lexer": "ipython3",
   "version": "3.7.3"
  }
 },
 "nbformat": 4,
 "nbformat_minor": 2
}
